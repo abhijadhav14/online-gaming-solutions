{
  "nbformat": 4,
  "nbformat_minor": 0,
  "metadata": {
    "colab": {
      "provenance": [],
      "authorship_tag": "ABX9TyO/hTm3dPn7q4D0HJUR+Bar",
      "include_colab_link": true
    },
    "kernelspec": {
      "name": "python3",
      "display_name": "Python 3"
    },
    "language_info": {
      "name": "python"
    }
  },
  "cells": [
    {
      "cell_type": "markdown",
      "metadata": {
        "id": "view-in-github",
        "colab_type": "text"
      },
      "source": [
        "<a href=\"https://colab.research.google.com/github/abhijadhav14/online-gaming-solutions/blob/main/Distinguishing_Gaming_from_Gambling.ipynb\" target=\"_parent\"><img src=\"https://colab.research.google.com/assets/colab-badge.svg\" alt=\"Open In Colab\"/></a>"
      ]
    },
    {
      "cell_type": "code",
      "execution_count": 1,
      "metadata": {
        "id": "0Fc-HflVUmkf"
      },
      "outputs": [],
      "source": [
        "import random"
      ]
    },
    {
      "cell_type": "code",
      "source": [
        "def skill_chance_ratio(skill_events, chance_events):\n",
        "    total_events = skill_events + chance_events\n",
        "    if total_events == 0:\n",
        "        return 0\n",
        "    return skill_events / total_events"
      ],
      "metadata": {
        "id": "87CzmYJ0UtNE"
      },
      "execution_count": 2,
      "outputs": []
    },
    {
      "cell_type": "code",
      "source": [
        "skill_events = 70\n",
        "chance_events = 30\n",
        "ratio = skill_chance_ratio(skill_events, chance_events)\n",
        "print(f\"Skill-to-Chance Ratio: {ratio:.2f}\")"
      ],
      "metadata": {
        "colab": {
          "base_uri": "https://localhost:8080/"
        },
        "id": "sAPmg8aUUutv",
        "outputId": "5d86e90b-c2a2-46b1-f5ab-8fa9b46df942"
      },
      "execution_count": 3,
      "outputs": [
        {
          "output_type": "stream",
          "name": "stdout",
          "text": [
            "Skill-to-Chance Ratio: 0.70\n"
          ]
        }
      ]
    },
    {
      "cell_type": "code",
      "source": [],
      "metadata": {
        "id": "GtyIr1rgUypj"
      },
      "execution_count": null,
      "outputs": []
    }
  ]
}