{
  "nbformat": 4,
  "nbformat_minor": 0,
  "metadata": {
    "colab": {
      "provenance": [],
      "authorship_tag": "ABX9TyN+iddq+8ADIa7OoQlt6T94",
      "include_colab_link": true
    },
    "kernelspec": {
      "name": "python3",
      "display_name": "Python 3"
    },
    "language_info": {
      "name": "python"
    }
  },
  "cells": [
    {
      "cell_type": "markdown",
      "metadata": {
        "id": "view-in-github",
        "colab_type": "text"
      },
      "source": [
        "<a href=\"https://colab.research.google.com/github/abhijadhav14/online-gaming-solutions/blob/main/Responsible_Gaming_Gameplay_Time_Monitoring.ipynb\" target=\"_parent\"><img src=\"https://colab.research.google.com/assets/colab-badge.svg\" alt=\"Open In Colab\"/></a>"
      ]
    },
    {
      "cell_type": "code",
      "execution_count": 5,
      "metadata": {
        "id": "kYapxx5qVAoY"
      },
      "outputs": [],
      "source": [
        "import time"
      ]
    },
    {
      "cell_type": "code",
      "source": [
        "def monitor_gameplay(max_duration_minutes):\n",
        "    start_time = time.time()\n",
        "    while True:\n",
        "        elapsed_time = (time.time() - start_time) / 60\n",
        "        if elapsed_time > max_duration_minutes:\n",
        "            print(\"You have exceeded the recommended gameplay duration.\")\n",
        "            break\n",
        "        time.sleep(10)"
      ],
      "metadata": {
        "id": "y11xN7wGVBMb"
      },
      "execution_count": 6,
      "outputs": []
    },
    {
      "cell_type": "code",
      "source": [
        "monitor_gameplay(1)"
      ],
      "metadata": {
        "colab": {
          "base_uri": "https://localhost:8080/"
        },
        "id": "ICwUJj8mVC_o",
        "outputId": "7c797bb3-d572-4742-a84b-ff79dfae078a"
      },
      "execution_count": 8,
      "outputs": [
        {
          "output_type": "stream",
          "name": "stdout",
          "text": [
            "You have exceeded the recommended gameplay duration.\n"
          ]
        }
      ]
    }
  ]
}