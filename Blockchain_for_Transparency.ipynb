{
  "nbformat": 4,
  "nbformat_minor": 0,
  "metadata": {
    "colab": {
      "provenance": [],
      "authorship_tag": "ABX9TyPuzAraxiV7+lBRFrTJPOJk",
      "include_colab_link": true
    },
    "kernelspec": {
      "name": "python3",
      "display_name": "Python 3"
    },
    "language_info": {
      "name": "python"
    }
  },
  "cells": [
    {
      "cell_type": "markdown",
      "metadata": {
        "id": "view-in-github",
        "colab_type": "text"
      },
      "source": [
        "<a href=\"https://colab.research.google.com/github/abhijadhav14/online-gaming-solutions/blob/main/Blockchain_for_Transparency.ipynb\" target=\"_parent\"><img src=\"https://colab.research.google.com/assets/colab-badge.svg\" alt=\"Open In Colab\"/></a>"
      ]
    },
    {
      "cell_type": "code",
      "source": [
        "!pip install web3"
      ],
      "metadata": {
        "colab": {
          "base_uri": "https://localhost:8080/"
        },
        "id": "_vCedEV0O6ra",
        "outputId": "6d9aa75b-e061-4d57-bbfc-237f38c4bd43"
      },
      "execution_count": 12,
      "outputs": [
        {
          "output_type": "stream",
          "name": "stdout",
          "text": [
            "Requirement already satisfied: web3 in /usr/local/lib/python3.10/dist-packages (7.6.1)\n",
            "Requirement already satisfied: eth-abi>=5.0.1 in /usr/local/lib/python3.10/dist-packages (from web3) (5.2.0)\n",
            "Requirement already satisfied: eth-account>=0.13.1 in /usr/local/lib/python3.10/dist-packages (from web3) (0.13.4)\n",
            "Requirement already satisfied: eth-hash>=0.5.1 in /usr/local/lib/python3.10/dist-packages (from eth-hash[pycryptodome]>=0.5.1->web3) (0.7.1)\n",
            "Requirement already satisfied: eth-typing>=5.0.0 in /usr/local/lib/python3.10/dist-packages (from web3) (5.1.0)\n",
            "Requirement already satisfied: eth-utils>=5.0.0 in /usr/local/lib/python3.10/dist-packages (from web3) (5.1.0)\n",
            "Requirement already satisfied: hexbytes>=1.2.0 in /usr/local/lib/python3.10/dist-packages (from web3) (1.3.0)\n",
            "Requirement already satisfied: aiohttp>=3.7.4.post0 in /usr/local/lib/python3.10/dist-packages (from web3) (3.11.10)\n",
            "Requirement already satisfied: pydantic>=2.4.0 in /usr/local/lib/python3.10/dist-packages (from web3) (2.10.3)\n",
            "Requirement already satisfied: requests>=2.23.0 in /usr/local/lib/python3.10/dist-packages (from web3) (2.32.3)\n",
            "Requirement already satisfied: typing-extensions>=4.0.1 in /usr/local/lib/python3.10/dist-packages (from web3) (4.12.2)\n",
            "Requirement already satisfied: types-requests>=2.0.0 in /usr/local/lib/python3.10/dist-packages (from web3) (2.32.0.20241016)\n",
            "Requirement already satisfied: websockets<14.0.0,>=10.0.0 in /usr/local/lib/python3.10/dist-packages (from web3) (13.1)\n",
            "Requirement already satisfied: pyunormalize>=15.0.0 in /usr/local/lib/python3.10/dist-packages (from web3) (16.0.0)\n",
            "Requirement already satisfied: aiohappyeyeballs>=2.3.0 in /usr/local/lib/python3.10/dist-packages (from aiohttp>=3.7.4.post0->web3) (2.4.4)\n",
            "Requirement already satisfied: aiosignal>=1.1.2 in /usr/local/lib/python3.10/dist-packages (from aiohttp>=3.7.4.post0->web3) (1.3.2)\n",
            "Requirement already satisfied: async-timeout<6.0,>=4.0 in /usr/local/lib/python3.10/dist-packages (from aiohttp>=3.7.4.post0->web3) (4.0.3)\n",
            "Requirement already satisfied: attrs>=17.3.0 in /usr/local/lib/python3.10/dist-packages (from aiohttp>=3.7.4.post0->web3) (24.3.0)\n",
            "Requirement already satisfied: frozenlist>=1.1.1 in /usr/local/lib/python3.10/dist-packages (from aiohttp>=3.7.4.post0->web3) (1.5.0)\n",
            "Requirement already satisfied: multidict<7.0,>=4.5 in /usr/local/lib/python3.10/dist-packages (from aiohttp>=3.7.4.post0->web3) (6.1.0)\n",
            "Requirement already satisfied: propcache>=0.2.0 in /usr/local/lib/python3.10/dist-packages (from aiohttp>=3.7.4.post0->web3) (0.2.1)\n",
            "Requirement already satisfied: yarl<2.0,>=1.17.0 in /usr/local/lib/python3.10/dist-packages (from aiohttp>=3.7.4.post0->web3) (1.18.3)\n",
            "Requirement already satisfied: parsimonious<0.11.0,>=0.10.0 in /usr/local/lib/python3.10/dist-packages (from eth-abi>=5.0.1->web3) (0.10.0)\n",
            "Requirement already satisfied: bitarray>=2.4.0 in /usr/local/lib/python3.10/dist-packages (from eth-account>=0.13.1->web3) (3.0.0)\n",
            "Requirement already satisfied: eth-keyfile<0.9.0,>=0.7.0 in /usr/local/lib/python3.10/dist-packages (from eth-account>=0.13.1->web3) (0.8.1)\n",
            "Requirement already satisfied: eth-keys>=0.4.0 in /usr/local/lib/python3.10/dist-packages (from eth-account>=0.13.1->web3) (0.6.1)\n",
            "Requirement already satisfied: eth-rlp>=2.1.0 in /usr/local/lib/python3.10/dist-packages (from eth-account>=0.13.1->web3) (2.1.0)\n",
            "Requirement already satisfied: rlp>=1.0.0 in /usr/local/lib/python3.10/dist-packages (from eth-account>=0.13.1->web3) (4.0.1)\n",
            "Requirement already satisfied: ckzg>=2.0.0 in /usr/local/lib/python3.10/dist-packages (from eth-account>=0.13.1->web3) (2.0.1)\n",
            "Requirement already satisfied: pycryptodome<4,>=3.6.6 in /usr/local/lib/python3.10/dist-packages (from eth-hash[pycryptodome]>=0.5.1->web3) (3.21.0)\n",
            "Requirement already satisfied: cytoolz>=0.10.1 in /usr/local/lib/python3.10/dist-packages (from eth-utils>=5.0.0->web3) (1.0.1)\n",
            "Requirement already satisfied: annotated-types>=0.6.0 in /usr/local/lib/python3.10/dist-packages (from pydantic>=2.4.0->web3) (0.7.0)\n",
            "Requirement already satisfied: pydantic-core==2.27.1 in /usr/local/lib/python3.10/dist-packages (from pydantic>=2.4.0->web3) (2.27.1)\n",
            "Requirement already satisfied: charset-normalizer<4,>=2 in /usr/local/lib/python3.10/dist-packages (from requests>=2.23.0->web3) (3.4.0)\n",
            "Requirement already satisfied: idna<4,>=2.5 in /usr/local/lib/python3.10/dist-packages (from requests>=2.23.0->web3) (3.10)\n",
            "Requirement already satisfied: urllib3<3,>=1.21.1 in /usr/local/lib/python3.10/dist-packages (from requests>=2.23.0->web3) (2.2.3)\n",
            "Requirement already satisfied: certifi>=2017.4.17 in /usr/local/lib/python3.10/dist-packages (from requests>=2.23.0->web3) (2024.12.14)\n",
            "Requirement already satisfied: toolz>=0.8.0 in /usr/local/lib/python3.10/dist-packages (from cytoolz>=0.10.1->eth-utils>=5.0.0->web3) (0.12.1)\n",
            "Requirement already satisfied: regex>=2022.3.15 in /usr/local/lib/python3.10/dist-packages (from parsimonious<0.11.0,>=0.10.0->eth-abi>=5.0.1->web3) (2024.11.6)\n"
          ]
        }
      ]
    },
    {
      "cell_type": "code",
      "execution_count": 13,
      "metadata": {
        "id": "Fg5LkuIHOsQV"
      },
      "outputs": [],
      "source": [
        "from web3 import Web3"
      ]
    },
    {
      "cell_type": "code",
      "source": [
        "# Connect to Ethereum network\n",
        "web3 = Web3(Web3.HTTPProvider('https://mainnet.infura.io/v3/YOUR_INFURA_PROJECT_ID'))\n"
      ],
      "metadata": {
        "id": "wkUrTcv7OwRc"
      },
      "execution_count": 14,
      "outputs": []
    },
    {
      "cell_type": "code",
      "source": [
        "print(f\"Connected: {web3.is_connected()}\")"
      ],
      "metadata": {
        "colab": {
          "base_uri": "https://localhost:8080/"
        },
        "id": "CrzN5332P_lN",
        "outputId": "53199e04-f207-46d8-9679-2f1ec3d3ab6c"
      },
      "execution_count": 15,
      "outputs": [
        {
          "output_type": "stream",
          "name": "stdout",
          "text": [
            "Connected: False\n"
          ]
        }
      ]
    },
    {
      "cell_type": "code",
      "source": [
        "# Sample smart contract interaction\n",
        "contract_address = \"0xYourContractAddress\"\n",
        "abi = [\n",
        "    {\n",
        "        \"inputs\": [],\n",
        "        \"name\": \"myFunction\",\n",
        "        \"outputs\": [{\"internalType\": \"uint256\", \"name\": \"\", \"type\": \"uint256\"}],\n",
        "        \"stateMutability\": \"view\",\n",
        "        \"type\": \"function\",\n",
        "    },\n",
        "]\n",
        "\n"
      ],
      "metadata": {
        "id": "KPYbOizLOzBp"
      },
      "execution_count": 17,
      "outputs": []
    },
    {
      "cell_type": "code",
      "source": [
        "def record_game_outcome(player_id, game_id, result, private_key):\n",
        "    account = web3.eth.account.privateKeyToAccount(private_key)\n",
        "    txn = contract.functions.recordOutcome(player_id, game_id, result).buildTransaction({\n",
        "        'from': account.address,\n",
        "        'nonce': web3.eth.getTransactionCount(account.address),\n",
        "        'gas': 2000000,\n",
        "        'gasPrice': web3.toWei('20', 'gwei')\n",
        "    })\n",
        "    signed_txn = web3.eth.account.sign_transaction(txn, private_key)\n",
        "    txn_hash = web3.eth.sendRawTransaction(signed_txn.rawTransaction)\n",
        "    print(f\"Transaction sent. Hash: {txn_hash.hex()}\")"
      ],
      "metadata": {
        "id": "7gzlma9bPPcB"
      },
      "execution_count": 18,
      "outputs": []
    },
    {
      "cell_type": "code",
      "source": [],
      "metadata": {
        "id": "kkg_1WPGUTe2"
      },
      "execution_count": null,
      "outputs": []
    }
  ]
}