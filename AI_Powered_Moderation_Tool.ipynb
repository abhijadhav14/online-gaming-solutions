{
  "nbformat": 4,
  "nbformat_minor": 0,
  "metadata": {
    "colab": {
      "provenance": [],
      "authorship_tag": "ABX9TyOjHxRr0oKu4HmL6Mcklc4h",
      "include_colab_link": true
    },
    "kernelspec": {
      "name": "python3",
      "display_name": "Python 3"
    },
    "language_info": {
      "name": "python"
    }
  },
  "cells": [
    {
      "cell_type": "markdown",
      "metadata": {
        "id": "view-in-github",
        "colab_type": "text"
      },
      "source": [
        "<a href=\"https://colab.research.google.com/github/abhijadhav14/online-gaming-solutions/blob/main/AI_Powered_Moderation_Tool.ipynb\" target=\"_parent\"><img src=\"https://colab.research.google.com/assets/colab-badge.svg\" alt=\"Open In Colab\"/></a>"
      ]
    },
    {
      "cell_type": "code",
      "execution_count": 1,
      "metadata": {
        "id": "fL4yNNLyNyx4"
      },
      "outputs": [],
      "source": [
        "from textblob import TextBlob"
      ]
    },
    {
      "cell_type": "code",
      "source": [
        "def detect_abusive_language(message):\n",
        "    abusive_words = [\"abuse\", \"harass\", \"cheat\"]\n",
        "    blob = TextBlob(message)\n",
        "    for word in abusive_words:\n",
        "        if word in blob.lower():\n",
        "            return True\n",
        "    return False"
      ],
      "metadata": {
        "id": "u3LhZ8qDN7ZL"
      },
      "execution_count": 2,
      "outputs": []
    },
    {
      "cell_type": "code",
      "source": [
        "message = \"This game is a cheat!\"\n",
        "if detect_abusive_language(message):\n",
        "    print(\"Abusive language detected. Action required.\")\n",
        "else:\n",
        "    print(\"Message is clean.\")"
      ],
      "metadata": {
        "colab": {
          "base_uri": "https://localhost:8080/"
        },
        "id": "Vt_COqU2N-Gj",
        "outputId": "e5dc7362-f537-4d1a-b07d-c26d6e68c6c4"
      },
      "execution_count": 3,
      "outputs": [
        {
          "output_type": "stream",
          "name": "stdout",
          "text": [
            "Abusive language detected. Action required.\n"
          ]
        }
      ]
    },
    {
      "cell_type": "code",
      "source": [
        "message = \"This game is a Awesome!\"\n",
        "if detect_abusive_language(message):\n",
        "    print(\"Abusive language detected. Action required.\")\n",
        "else:\n",
        "    print(\"Message is clean.\")"
      ],
      "metadata": {
        "colab": {
          "base_uri": "https://localhost:8080/"
        },
        "id": "l5mc2oFwOK0P",
        "outputId": "dac8d61e-946e-4b5f-b67c-8d26e8330c44"
      },
      "execution_count": 4,
      "outputs": [
        {
          "output_type": "stream",
          "name": "stdout",
          "text": [
            "Message is clean.\n"
          ]
        }
      ]
    }
  ]
}